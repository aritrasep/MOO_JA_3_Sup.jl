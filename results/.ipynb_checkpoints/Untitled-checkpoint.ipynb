{
 "cells": [
  {
   "cell_type": "code",
   "execution_count": 1,
   "metadata": {
    "collapsed": false
   },
   "outputs": [
    {
     "name": "stderr",
     "output_type": "stream",
     "text": [
      "WARNING: Method definition nrow(DataFramesMeta.AbstractCompositeDataFrame) in module DataFramesMeta at /home/aritra/.julia/v0.5/DataFramesMeta/src/compositedataframe.jl:108 overwritten at /home/aritra/.julia/v0.5/DataFramesMeta/src/compositedataframe.jl:109.\n",
      "\u001b[1m\u001b[34mINFO: Precompiling module GLM.\n",
      "\u001b[0m"
     ]
    }
   ],
   "source": [
    "using DataFrames, DataFramesMeta, GLM"
   ]
  },
  {
   "cell_type": "code",
   "execution_count": 3,
   "metadata": {
    "collapsed": false,
    "scrolled": true
   },
   "outputs": [
    {
     "data": {
      "text/html": [
       "<table class=\"data-frame\"><thead><tr><th></th><th>Variables</th><th>Constraints</th><th>Max_Change</th><th>Avg_Change</th><th>Num_True</th><th>Num_True_and_Feasible</th><th>Difference</th></tr></thead><tbody><tr><th>1</th><td>100</td><td>1</td><td>8</td><td>4.748538011695906</td><td>53</td><td>52</td><td>3</td></tr><tr><th>2</th><td>100</td><td>1</td><td>9</td><td>4.803468208092486</td><td>51</td><td>50</td><td>5</td></tr><tr><th>3</th><td>100</td><td>1</td><td>8</td><td>4.587301587301587</td><td>61</td><td>58</td><td>6</td></tr><tr><th>4</th><td>100</td><td>1</td><td>7</td><td>4.2</td><td>60</td><td>59</td><td>11</td></tr><tr><th>5</th><td>100</td><td>1</td><td>9</td><td>4.858108108108108</td><td>56</td><td>54</td><td>3</td></tr><tr><th>6</th><td>150</td><td>1</td><td>9</td><td>4.8765432098765435</td><td>83</td><td>79</td><td>11</td></tr><tr><th>7</th><td>150</td><td>1</td><td>11</td><td>5.285302593659942</td><td>78</td><td>77</td><td>5</td></tr><tr><th>8</th><td>150</td><td>1</td><td>10</td><td>5.127272727272727</td><td>83</td><td>82</td><td>5</td></tr><tr><th>9</th><td>150</td><td>1</td><td>10</td><td>5.383495145631068</td><td>79</td><td>76</td><td>7</td></tr><tr><th>10</th><td>200</td><td>1</td><td>11</td><td>5.655251141552512</td><td>116</td><td>110</td><td>8</td></tr><tr><th>11</th><td>200</td><td>1</td><td>9</td><td>5.277078085642318</td><td>108</td><td>106</td><td>14</td></tr><tr><th>12</th><td>200</td><td>1</td><td>10</td><td>5.3058103975535165</td><td>108</td><td>106</td><td>7</td></tr><tr><th>13</th><td>200</td><td>1</td><td>10</td><td>5.288888888888889</td><td>104</td><td>100</td><td>11</td></tr><tr><th>14</th><td>250</td><td>1</td><td>11</td><td>5.599364069952305</td><td>138</td><td>133</td><td>9</td></tr><tr><th>15</th><td>250</td><td>1</td><td>10</td><td>5.590764331210191</td><td>145</td><td>143</td><td>13</td></tr><tr><th>16</th><td>250</td><td>1</td><td>11</td><td>5.584440227703984</td><td>141</td><td>138</td><td>11</td></tr><tr><th>17</th><td>250</td><td>1</td><td>11</td><td>5.653301886792453</td><td>147</td><td>146</td><td>11</td></tr><tr><th>18</th><td>300</td><td>1</td><td>11</td><td>5.522471910112359</td><td>173</td><td>169</td><td>5</td></tr><tr><th>19</th><td>300</td><td>1</td><td>11</td><td>5.574675324675325</td><td>181</td><td>179</td><td>5</td></tr><tr><th>20</th><td>300</td><td>1</td><td>11</td><td>5.761904761904762</td><td>188</td><td>186</td><td>3</td></tr><tr><th>21</th><td>300</td><td>1</td><td>10</td><td>5.046948356807512</td><td>220</td><td>217</td><td>8</td></tr><tr><th>22</th><td>350</td><td>1</td><td>11</td><td>5.9</td><td>213</td><td>207</td><td>15</td></tr><tr><th>23</th><td>350</td><td>1</td><td>11</td><td>5.761006289308176</td><td>205</td><td>202</td><td>10</td></tr><tr><th>24</th><td>350</td><td>1</td><td>12</td><td>5.815165876777251</td><td>196</td><td>190</td><td>16</td></tr><tr><th>25</th><td>350</td><td>1</td><td>12</td><td>5.8471337579617835</td><td>242</td><td>238</td><td>13</td></tr><tr><th>26</th><td>400</td><td>1</td><td>11</td><td>5.905905905905906</td><td>252</td><td>246</td><td>12</td></tr><tr><th>27</th><td>400</td><td>1</td><td>11</td><td>5.969314079422382</td><td>249</td><td>247</td><td>17</td></tr><tr><th>28</th><td>400</td><td>1</td><td>11</td><td>6.173544973544973</td><td>241</td><td>236</td><td>16</td></tr><tr><th>29</th><td>400</td><td>1</td><td>13</td><td>6.203714799281006</td><td>186</td><td>180</td><td>10</td></tr><tr><th>30</th><td>450</td><td>1</td><td>13</td><td>6.23448275862069</td><td>269</td><td>260</td><td>9</td></tr><tr><th>&vellip;</th><td>&vellip;</td><td>&vellip;</td><td>&vellip;</td><td>&vellip;</td><td>&vellip;</td><td>&vellip;</td><td>&vellip;</td></tr></tbody></table>"
      ],
      "text/plain": [
       "77×7 DataFrames.DataFrame\n",
       "│ Row │ Variables │ Constraints │ Max_Change │ Avg_Change │ Num_True │\n",
       "├─────┼───────────┼─────────────┼────────────┼────────────┼──────────┤\n",
       "│ 1   │ 100       │ 1           │ 8          │ 4.74854    │ 53       │\n",
       "│ 2   │ 100       │ 1           │ 9          │ 4.80347    │ 51       │\n",
       "│ 3   │ 100       │ 1           │ 8          │ 4.5873     │ 61       │\n",
       "│ 4   │ 100       │ 1           │ 7          │ 4.2        │ 60       │\n",
       "│ 5   │ 100       │ 1           │ 9          │ 4.85811    │ 56       │\n",
       "│ 6   │ 150       │ 1           │ 9          │ 4.87654    │ 83       │\n",
       "│ 7   │ 150       │ 1           │ 11         │ 5.2853     │ 78       │\n",
       "│ 8   │ 150       │ 1           │ 10         │ 5.12727    │ 83       │\n",
       "│ 9   │ 150       │ 1           │ 10         │ 5.3835     │ 79       │\n",
       "│ 10  │ 200       │ 1           │ 11         │ 5.65525    │ 116      │\n",
       "│ 11  │ 200       │ 1           │ 9          │ 5.27708    │ 108      │\n",
       "⋮\n",
       "│ 66  │ 625       │ 2           │ 15         │ 8.77261    │ 343      │\n",
       "│ 67  │ 625       │ 2           │ 16         │ 8.63764    │ 346      │\n",
       "│ 68  │ 625       │ 2           │ 15         │ 8.50889    │ 333      │\n",
       "│ 69  │ 625       │ 2           │ 16         │ 8.84967    │ 342      │\n",
       "│ 70  │ 625       │ 2           │ 16         │ 8.70237    │ 365      │\n",
       "│ 71  │ 750       │ 2           │ 16         │ 9.11819    │ 423      │\n",
       "│ 72  │ 750       │ 2           │ 16         │ 9.15414    │ 426      │\n",
       "│ 73  │ 750       │ 2           │ 16         │ 9.07605    │ 411      │\n",
       "│ 74  │ 750       │ 2           │ 17         │ 8.94935    │ 414      │\n",
       "│ 75  │ 750       │ 2           │ 16         │ 8.7495     │ 429      │\n",
       "│ 76  │ 40000     │ 400         │ 94         │ 33.3481    │ 38829    │\n",
       "│ 77  │ 40000     │ 400         │ 108        │ 37.3108    │ 38826    │\n",
       "\n",
       "│ Row │ Num_True_and_Feasible │ Difference │\n",
       "├─────┼───────────────────────┼────────────┤\n",
       "│ 1   │ 52                    │ 3          │\n",
       "│ 2   │ 50                    │ 5          │\n",
       "│ 3   │ 58                    │ 6          │\n",
       "│ 4   │ 59                    │ 11         │\n",
       "│ 5   │ 54                    │ 3          │\n",
       "│ 6   │ 79                    │ 11         │\n",
       "│ 7   │ 77                    │ 5          │\n",
       "│ 8   │ 82                    │ 5          │\n",
       "│ 9   │ 76                    │ 7          │\n",
       "│ 10  │ 110                   │ 8          │\n",
       "│ 11  │ 106                   │ 14         │\n",
       "⋮\n",
       "│ 66  │ 328                   │ 20         │\n",
       "│ 67  │ 330                   │ 16         │\n",
       "│ 68  │ 322                   │ 25         │\n",
       "│ 69  │ 324                   │ 8          │\n",
       "│ 70  │ 359                   │ 26         │\n",
       "│ 71  │ 401                   │ 15         │\n",
       "│ 72  │ 406                   │ 9          │\n",
       "│ 73  │ 396                   │ 8          │\n",
       "│ 74  │ 395                   │ 19         │\n",
       "│ 75  │ 412                   │ 15         │\n",
       "│ 76  │ 38829                 │ 134        │\n",
       "│ 77  │ 38820                 │ 101        │"
      ]
     },
     "execution_count": 3,
     "metadata": {},
     "output_type": "execute_result"
    }
   ],
   "source": [
    "data = readtable(\"Detailed_Epsilon_Constraint_Method_Results.csv\");\n",
    "data = data[[:Variables, :Constraints, :Max_Change, :Avg_Change, :Num_True, :Num_Feasible, :Num_True_and_Feasible]];\n",
    "data[:Difference] = data[:Num_Feasible] - data[:Num_True_and_Feasible];\n",
    "data = @where(data, :Difference .> 0)\n",
    "#data[:Log_Variables] = log(data[:Variables]);\n",
    "#data[:Log_Difference] = log(data[:Difference]);\n",
    "#data = data[[:Variables, :Log_Variables, :Constraints, :Difference, :Log_Difference]]\n",
    "data = data[[:Variables, :Constraints, :Max_Change, :Avg_Change, :Num_True, :Num_True_and_Feasible, :Difference]]"
   ]
  },
  {
   "cell_type": "code",
   "execution_count": 7,
   "metadata": {
    "collapsed": false
   },
   "outputs": [
    {
     "data": {
      "text/plain": [
       "(0.05418832199546486,0.04107183229672892)"
      ]
     },
     "execution_count": 7,
     "metadata": {},
     "output_type": "execute_result"
    }
   ],
   "source": [
    "mean_and_std(data[:Max_Change] ./ data[:Variables])"
   ]
  },
  {
   "cell_type": "code",
   "execution_count": 8,
   "metadata": {
    "collapsed": false
   },
   "outputs": [
    {
     "data": {
      "text/plain": [
       "0.18"
      ]
     },
     "execution_count": 8,
     "metadata": {},
     "output_type": "execute_result"
    }
   ],
   "source": [
    "maximum(data[:Max_Change] ./ data[:Variables])"
   ]
  },
  {
   "cell_type": "code",
   "execution_count": 13,
   "metadata": {
    "collapsed": false
   },
   "outputs": [
    {
     "data": {
      "text/plain": [
       "5-element Array{Float64,1}:\n",
       " 0.38    \n",
       " 0.548   \n",
       " 0.576667\n",
       " 0.626667\n",
       " 0.970725"
      ]
     },
     "execution_count": 13,
     "metadata": {},
     "output_type": "execute_result"
    }
   ],
   "source": [
    "quantile(data[:Num_True] ./ data[:Variables])"
   ]
  },
  {
   "cell_type": "code",
   "execution_count": 9,
   "metadata": {
    "collapsed": false
   },
   "outputs": [
    {
     "data": {
      "text/plain": [
       "0.970725"
      ]
     },
     "execution_count": 9,
     "metadata": {},
     "output_type": "execute_result"
    }
   ],
   "source": [
    "maximum(data[:Num_True] ./ data[:Variables])"
   ]
  },
  {
   "cell_type": "code",
   "execution_count": 12,
   "metadata": {
    "collapsed": false
   },
   "outputs": [
    {
     "data": {
      "text/plain": [
       "5-element Array{Float64,1}:\n",
       " 0.002525\n",
       " 0.0256  \n",
       " 0.038   \n",
       " 0.052   \n",
       " 0.2     "
      ]
     },
     "execution_count": 12,
     "metadata": {},
     "output_type": "execute_result"
    }
   ],
   "source": [
    "quantile(data[:Difference] ./ data[:Variables])"
   ]
  },
  {
   "cell_type": "code",
   "execution_count": 11,
   "metadata": {
    "collapsed": false
   },
   "outputs": [
    {
     "data": {
      "text/plain": [
       "0.2"
      ]
     },
     "execution_count": 11,
     "metadata": {},
     "output_type": "execute_result"
    }
   ],
   "source": [
    "maximum(data[:Difference] ./ data[:Variables])"
   ]
  },
  {
   "cell_type": "code",
   "execution_count": 55,
   "metadata": {
    "collapsed": false
   },
   "outputs": [
    {
     "data": {
      "text/plain": [
       "DataFrames.DataFrameRegressionModel{GLM.LinearModel{GLM.LmResp{Array{Float64,1}},GLM.DensePredQR{Float64}},Array{Float64,2}}\n",
       "\n",
       "Formula: Log_Difference ~ 1 + Log_Variables + Variables\n",
       "\n",
       "Coefficients:\n",
       "                 Estimate  Std.Error  t value Pr(>|t|)\n",
       "(Intercept)       1.05579    1.10981 0.951329   0.3450\n",
       "Log_Variables    0.146488   0.259462 0.564583   0.5743\n",
       "Variables      0.00148766 0.00111593  1.33312   0.1872\n"
      ]
     },
     "execution_count": 55,
     "metadata": {},
     "output_type": "execute_result"
    }
   ],
   "source": [
    "model = fit(LinearModel, @formula(Log_Difference ~ Log_Variables + Variables), data)"
   ]
  },
  {
   "cell_type": "code",
   "execution_count": 56,
   "metadata": {
    "collapsed": false
   },
   "outputs": [
    {
     "name": "stderr",
     "output_type": "stream",
     "text": [
      "WARNING: Method definition compute_k(Int64) in module Main at In[46]:2 overwritten at In[56]:2.\n"
     ]
    },
    {
     "data": {
      "text/plain": [
       "compute_k (generic function with 1 method)"
      ]
     },
     "execution_count": 56,
     "metadata": {},
     "output_type": "execute_result"
    }
   ],
   "source": [
    "function compute_k(num_vars::Int64)\n",
    "    ceil(Int64, exp(1.42654*log(num_vars) - 0.00424706*num_vars -4.56314 ))\n",
    "end"
   ]
  },
  {
   "cell_type": "code",
   "execution_count": 48,
   "metadata": {
    "collapsed": false
   },
   "outputs": [
    {
     "data": {
      "text/plain": [
       "10"
      ]
     },
     "execution_count": 48,
     "metadata": {},
     "output_type": "execute_result"
    }
   ],
   "source": [
    "compute_k(250)"
   ]
  },
  {
   "cell_type": "code",
   "execution_count": 27,
   "metadata": {
    "collapsed": false
   },
   "outputs": [
    {
     "data": {
      "text/plain": [
       "1.7245759474569686"
      ]
     },
     "execution_count": 27,
     "metadata": {},
     "output_type": "execute_result"
    }
   ],
   "source": [
    "mean(data[:Difference])/mean(data[:Log_Variables])"
   ]
  }
 ],
 "metadata": {
  "kernelspec": {
   "display_name": "Julia 0.5.0",
   "language": "julia",
   "name": "julia-0.5"
  },
  "language_info": {
   "file_extension": ".jl",
   "mimetype": "application/julia",
   "name": "julia",
   "version": "0.5.1"
  }
 },
 "nbformat": 4,
 "nbformat_minor": 2
}
